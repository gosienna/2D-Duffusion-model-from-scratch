{
 "cells": [
  {
   "cell_type": "markdown",
   "id": "506ed77d",
   "metadata": {
    "_cell_guid": "b1076dfc-b9ad-4769-8c92-a6c4dae69d19",
    "_uuid": "8f2839f25d086af736a60e9eeb907d3b93b6e0e5",
    "papermill": {
     "duration": 0.002263,
     "end_time": "2024-12-27T17:40:13.515653",
     "exception": false,
     "start_time": "2024-12-27T17:40:13.513390",
     "status": "completed"
    },
    "tags": []
   },
   "source": [
    "reference:  \n",
    "李宏毅  \n",
    "https://www.youtube.com/watch?v=oTGFK-QOWI4\n",
    "https://docs.google.com/presentation/d/1x8c38zgEbN2zN4EboWhquZ5b3LhVCN8ElhaJCO2vnzY/edit?pli=1#slide=id.g228497b0ecc_0_0  \n",
    "https://www.kaggle.com/code/b07202024/hw6-diffusion-model\n",
    "hugging face  \n",
    "https://huggingface.co/learn/diffusion-course/unit1/3  \n",
    "https://huggingface.co/docs/diffusers/tutorials/basic_training  \n",
    "https://www.hyperstack.cloud/technical-resources/tutorials/how-to-train-a-stable-diffusion-model  \n",
    "https://tree.rocks/make-diffusion-model-from-scratch-easy-way-to-implement-quick-diffusion-model-e60d18fd0f2e\n",
    "Youtube  \n",
    "https://www.youtube.com/watch?v=a4Yfz2FxXiY&t=1244s  \n",
    "https://colab.research.google.com/drive/1sjy9odlSSy0RBVgMTgP7s99NXsqglsUL?usp=sharing  "
   ]
  },
  {
   "cell_type": "code",
   "execution_count": 1,
   "id": "3484c469",
   "metadata": {
    "execution": {
     "iopub.execute_input": "2024-12-27T17:40:13.521156Z",
     "iopub.status.busy": "2024-12-27T17:40:13.520614Z",
     "iopub.status.idle": "2024-12-27T17:40:28.697741Z",
     "shell.execute_reply": "2024-12-27T17:40:28.695902Z"
    },
    "papermill": {
     "duration": 15.183087,
     "end_time": "2024-12-27T17:40:28.700564",
     "exception": false,
     "start_time": "2024-12-27T17:40:13.517477",
     "status": "completed"
    },
    "tags": []
   },
   "outputs": [
    {
     "name": "stdout",
     "output_type": "stream",
     "text": [
      "Note: you may need to restart the kernel to use updated packages.\n"
     ]
    }
   ],
   "source": [
    "%pip install -q diffusers"
   ]
  },
  {
   "cell_type": "code",
   "execution_count": 2,
   "id": "28b6c535",
   "metadata": {
    "execution": {
     "iopub.execute_input": "2024-12-27T17:40:28.706330Z",
     "iopub.status.busy": "2024-12-27T17:40:28.705898Z",
     "iopub.status.idle": "2024-12-27T17:40:28.996769Z",
     "shell.execute_reply": "2024-12-27T17:40:28.995448Z"
    },
    "papermill": {
     "duration": 0.296704,
     "end_time": "2024-12-27T17:40:28.999354",
     "exception": false,
     "start_time": "2024-12-27T17:40:28.702650",
     "status": "completed"
    },
    "tags": []
   },
   "outputs": [
    {
     "data": {
      "image/png": "[encoded data removed]",
      "text/plain": [
       "<Figure size 640x480 with 1 Axes>"
      ]
     },
     "metadata": {},
     "output_type": "display_data"
    }
   ],
   "source": [
    "import matplotlib.pyplot as plt\n",
    "import matplotlib.image as img\n",
    "\n",
    "image = img.imread('/kaggle/input/minst-dataset/train_img/train_000000.jpg')          \n",
    "plt.imshow(image)                                   \n",
    "plt.show()    "
   ]
  }
 ],
 "metadata": {
  "kaggle": {
   "accelerator": "none",
   "dataSources": [
    {
     "datasetId": 2000634,
     "sourceId": 3307711,
     "sourceType": "datasetVersion"
    }
   ],
   "dockerImageVersionId": 30775,
   "isGpuEnabled": false,
   "isInternetEnabled": true,
   "language": "python",
   "sourceType": "notebook"
  },
  "kernelspec": {
   "display_name": "Python 3",
   "language": "python",
   "name": "python3"
  },
  "language_info": {
   "codemirror_mode": {
    "name": "ipython",
    "version": 3
   },
   "file_extension": ".py",
   "mimetype": "text/x-python",
   "name": "python",
   "nbconvert_exporter": "python",
   "pygments_lexer": "ipython3",
   "version": "3.10.14"
  },
  "papermill": {
   "default_parameters": {},
   "duration": 19.441647,
   "end_time": "2024-12-27T17:40:29.524822",
   "environment_variables": {},
   "exception": null,
   "input_path": "__notebook__.ipynb",
   "output_path": "__notebook__.ipynb",
   "parameters": {},
   "start_time": "2024-12-27T17:40:10.083175",
   "version": "2.6.0"
  }
 },
 "nbformat": 4,
 "nbformat_minor": 5
}
